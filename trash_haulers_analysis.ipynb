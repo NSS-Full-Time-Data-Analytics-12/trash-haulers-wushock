{
 "cells": [
  {
   "cell_type": "code",
   "execution_count": 1,
   "id": "c90858e0-b5e0-456d-9f50-2dfd5c1027e0",
   "metadata": {},
   "outputs": [],
   "source": [
    "import pandas as pd\n",
    "import geopandas as gpd\n",
    "import re\n",
    "import matplotlib as plt\n",
    "import numpy as np"
   ]
  },
  {
   "cell_type": "code",
   "execution_count": 2,
   "id": "3abbfa6d-c3c2-4923-ad18-0577efcdfbdf",
   "metadata": {},
   "outputs": [],
   "source": [
    "trash = pd.read_csv('cleaned_trash_haulers.csv')"
   ]
  },
  {
   "cell_type": "code",
   "execution_count": 3,
   "id": "be361fe3-9803-40df-a505-ad01e6acbb2f",
   "metadata": {},
   "outputs": [],
   "source": [
    "trash['Date Opened'] = pd.to_datetime(trash['Date Opened'])"
   ]
  },
  {
   "cell_type": "code",
   "execution_count": 4,
   "id": "3a2e5eda-3e18-426d-97b0-3217c36ecfe8",
   "metadata": {},
   "outputs": [],
   "source": [
    "trash['Zip Code'] = trash['Zip Code'].astype('str')\n",
    "trash['Zip Code'] = trash['Zip Code'].str.extract(r'(\\d{5})')"
   ]
  },
  {
   "cell_type": "code",
   "execution_count": 5,
   "id": "df3198c1-9286-43bd-a243-454cf3407b84",
   "metadata": {},
   "outputs": [
    {
     "name": "stdout",
     "output_type": "stream",
     "text": [
      "<class 'pandas.core.frame.DataFrame'>\n",
      "RangeIndex: 20226 entries, 0 to 20225\n",
      "Data columns (total 11 columns):\n",
      " #   Column          Non-Null Count  Dtype         \n",
      "---  ------          --------------  -----         \n",
      " 0   Request Number  20226 non-null  int64         \n",
      " 1   Date Opened     20226 non-null  datetime64[ns]\n",
      " 2   Request         20226 non-null  object        \n",
      " 3   Description     20192 non-null  object        \n",
      " 4   Zip Code        20186 non-null  object        \n",
      " 5   Trash Hauler    19364 non-null  object        \n",
      " 6   Trash Route     19279 non-null  object        \n",
      " 7   LONGITUDE       20198 non-null  float64       \n",
      " 8   LATITUDE        20198 non-null  float64       \n",
      " 9   Clean Address   20216 non-null  object        \n",
      " 10  Missed          20226 non-null  bool          \n",
      "dtypes: bool(1), datetime64[ns](1), float64(2), int64(1), object(6)\n",
      "memory usage: 1.6+ MB\n"
     ]
    }
   ],
   "source": [
    "trash.info()"
   ]
  },
  {
   "cell_type": "markdown",
   "id": "817d3582-81ab-456f-be27-a55732290380",
   "metadata": {},
   "source": [
    "# Red River Waste Solutions Total Damages\n",
    "- For each address:\n",
    "    - `>= 3 missed pickups on 3 unique dates`\n",
    "    - `Within a 6 month timespan`\n",
    "    + `+ $1500`"
   ]
  },
  {
   "cell_type": "code",
   "execution_count": 6,
   "id": "28cc7d2d-d59d-4b76-81b0-3d0f05219da0",
   "metadata": {},
   "outputs": [],
   "source": [
    "redriver = trash[['Request Number', 'Date Opened', 'Missed', 'Clean Address', 'Trash Hauler']]"
   ]
  },
  {
   "cell_type": "code",
   "execution_count": 7,
   "id": "60584521-3869-4380-b8f2-69305a7edad2",
   "metadata": {},
   "outputs": [
    {
     "data": {
      "text/html": [
       "<div>\n",
       "<style scoped>\n",
       "    .dataframe tbody tr th:only-of-type {\n",
       "        vertical-align: middle;\n",
       "    }\n",
       "\n",
       "    .dataframe tbody tr th {\n",
       "        vertical-align: top;\n",
       "    }\n",
       "\n",
       "    .dataframe thead th {\n",
       "        text-align: right;\n",
       "    }\n",
       "</style>\n",
       "<table border=\"1\" class=\"dataframe\">\n",
       "  <thead>\n",
       "    <tr style=\"text-align: right;\">\n",
       "      <th></th>\n",
       "      <th>Request Number</th>\n",
       "      <th>Date Opened</th>\n",
       "      <th>Missed</th>\n",
       "      <th>Clean Address</th>\n",
       "      <th>Trash Hauler</th>\n",
       "    </tr>\n",
       "  </thead>\n",
       "  <tbody>\n",
       "    <tr>\n",
       "      <th>0</th>\n",
       "      <td>25270</td>\n",
       "      <td>2017-11-01</td>\n",
       "      <td>False</td>\n",
       "      <td>3817 CROUCH DR</td>\n",
       "      <td>RED RIVER</td>\n",
       "    </tr>\n",
       "    <tr>\n",
       "      <th>1</th>\n",
       "      <td>25274</td>\n",
       "      <td>2017-11-01</td>\n",
       "      <td>True</td>\n",
       "      <td>4028 CLARKSVILLE PIKE</td>\n",
       "      <td>RED RIVER</td>\n",
       "    </tr>\n",
       "    <tr>\n",
       "      <th>2</th>\n",
       "      <td>25276</td>\n",
       "      <td>2017-11-01</td>\n",
       "      <td>True</td>\n",
       "      <td>6528 THUNDERBIRD DR</td>\n",
       "      <td>RED RIVER</td>\n",
       "    </tr>\n",
       "    <tr>\n",
       "      <th>3</th>\n",
       "      <td>25307</td>\n",
       "      <td>2017-11-01</td>\n",
       "      <td>True</td>\n",
       "      <td>2603 OLD MATTHEWS RD</td>\n",
       "      <td>WASTE IND</td>\n",
       "    </tr>\n",
       "    <tr>\n",
       "      <th>4</th>\n",
       "      <td>25312</td>\n",
       "      <td>2017-11-01</td>\n",
       "      <td>True</td>\n",
       "      <td>604 CROLEY DR</td>\n",
       "      <td>RED RIVER</td>\n",
       "    </tr>\n",
       "  </tbody>\n",
       "</table>\n",
       "</div>"
      ],
      "text/plain": [
       "   Request Number Date Opened  Missed          Clean Address Trash Hauler\n",
       "0           25270  2017-11-01   False         3817 CROUCH DR    RED RIVER\n",
       "1           25274  2017-11-01    True  4028 CLARKSVILLE PIKE    RED RIVER\n",
       "2           25276  2017-11-01    True    6528 THUNDERBIRD DR    RED RIVER\n",
       "3           25307  2017-11-01    True   2603 OLD MATTHEWS RD    WASTE IND\n",
       "4           25312  2017-11-01    True          604 CROLEY DR    RED RIVER"
      ]
     },
     "execution_count": 7,
     "metadata": {},
     "output_type": "execute_result"
    }
   ],
   "source": [
    "redriver.head()"
   ]
  },
  {
   "cell_type": "code",
   "execution_count": 8,
   "id": "a7f6d6e9-6bcf-498f-b207-206331763073",
   "metadata": {},
   "outputs": [],
   "source": [
    "redriver = redriver.loc[redriver['Trash Hauler'] == 'RED RIVER']"
   ]
  },
  {
   "cell_type": "code",
   "execution_count": 9,
   "id": "aec1feeb-837e-4ec6-95dd-37a81435afcc",
   "metadata": {},
   "outputs": [],
   "source": [
    "redriver = redriver.loc[redriver['Missed'] == True]"
   ]
  },
  {
   "cell_type": "code",
   "execution_count": 10,
   "id": "b0acd03f-e83b-4c8c-b46a-4272c8d54691",
   "metadata": {},
   "outputs": [
    {
     "data": {
      "text/html": [
       "<div>\n",
       "<style scoped>\n",
       "    .dataframe tbody tr th:only-of-type {\n",
       "        vertical-align: middle;\n",
       "    }\n",
       "\n",
       "    .dataframe tbody tr th {\n",
       "        vertical-align: top;\n",
       "    }\n",
       "\n",
       "    .dataframe thead th {\n",
       "        text-align: right;\n",
       "    }\n",
       "</style>\n",
       "<table border=\"1\" class=\"dataframe\">\n",
       "  <thead>\n",
       "    <tr style=\"text-align: right;\">\n",
       "      <th></th>\n",
       "      <th>Request Number</th>\n",
       "      <th>Date Opened</th>\n",
       "      <th>Missed</th>\n",
       "      <th>Clean Address</th>\n",
       "      <th>Trash Hauler</th>\n",
       "    </tr>\n",
       "  </thead>\n",
       "  <tbody>\n",
       "    <tr>\n",
       "      <th>1</th>\n",
       "      <td>25274</td>\n",
       "      <td>2017-11-01</td>\n",
       "      <td>True</td>\n",
       "      <td>4028 CLARKSVILLE PIKE</td>\n",
       "      <td>RED RIVER</td>\n",
       "    </tr>\n",
       "    <tr>\n",
       "      <th>2</th>\n",
       "      <td>25276</td>\n",
       "      <td>2017-11-01</td>\n",
       "      <td>True</td>\n",
       "      <td>6528 THUNDERBIRD DR</td>\n",
       "      <td>RED RIVER</td>\n",
       "    </tr>\n",
       "    <tr>\n",
       "      <th>4</th>\n",
       "      <td>25312</td>\n",
       "      <td>2017-11-01</td>\n",
       "      <td>True</td>\n",
       "      <td>604 CROLEY DR</td>\n",
       "      <td>RED RIVER</td>\n",
       "    </tr>\n",
       "    <tr>\n",
       "      <th>8</th>\n",
       "      <td>25330</td>\n",
       "      <td>2017-11-01</td>\n",
       "      <td>True</td>\n",
       "      <td>4484 LAVERGNE COUCHVILLE PIKE</td>\n",
       "      <td>RED RIVER</td>\n",
       "    </tr>\n",
       "    <tr>\n",
       "      <th>10</th>\n",
       "      <td>25341</td>\n",
       "      <td>2017-11-01</td>\n",
       "      <td>True</td>\n",
       "      <td>3113 HYDES FERRY RD</td>\n",
       "      <td>RED RIVER</td>\n",
       "    </tr>\n",
       "  </tbody>\n",
       "</table>\n",
       "</div>"
      ],
      "text/plain": [
       "    Request Number Date Opened  Missed                  Clean Address  \\\n",
       "1            25274  2017-11-01    True          4028 CLARKSVILLE PIKE   \n",
       "2            25276  2017-11-01    True            6528 THUNDERBIRD DR   \n",
       "4            25312  2017-11-01    True                  604 CROLEY DR   \n",
       "8            25330  2017-11-01    True  4484 LAVERGNE COUCHVILLE PIKE   \n",
       "10           25341  2017-11-01    True            3113 HYDES FERRY RD   \n",
       "\n",
       "   Trash Hauler  \n",
       "1     RED RIVER  \n",
       "2     RED RIVER  \n",
       "4     RED RIVER  \n",
       "8     RED RIVER  \n",
       "10    RED RIVER  "
      ]
     },
     "execution_count": 10,
     "metadata": {},
     "output_type": "execute_result"
    }
   ],
   "source": [
    "redriver.head()"
   ]
  },
  {
   "cell_type": "code",
   "execution_count": 11,
   "id": "e346e9d1-9c23-4859-bd16-0f99e11dd523",
   "metadata": {},
   "outputs": [
    {
     "data": {
      "text/html": [
       "<div>\n",
       "<style scoped>\n",
       "    .dataframe tbody tr th:only-of-type {\n",
       "        vertical-align: middle;\n",
       "    }\n",
       "\n",
       "    .dataframe tbody tr th {\n",
       "        vertical-align: top;\n",
       "    }\n",
       "\n",
       "    .dataframe thead th {\n",
       "        text-align: right;\n",
       "    }\n",
       "</style>\n",
       "<table border=\"1\" class=\"dataframe\">\n",
       "  <thead>\n",
       "    <tr style=\"text-align: right;\">\n",
       "      <th></th>\n",
       "      <th>Request Number</th>\n",
       "      <th>Date Opened</th>\n",
       "      <th>Missed</th>\n",
       "      <th>Clean Address</th>\n",
       "      <th>Trash Hauler</th>\n",
       "    </tr>\n",
       "  </thead>\n",
       "  <tbody>\n",
       "    <tr>\n",
       "      <th>1</th>\n",
       "      <td>25274</td>\n",
       "      <td>2017-11-01</td>\n",
       "      <td>True</td>\n",
       "      <td>4028 CLARKSVILLE PIKE</td>\n",
       "      <td>RED RIVER</td>\n",
       "    </tr>\n",
       "    <tr>\n",
       "      <th>2</th>\n",
       "      <td>25276</td>\n",
       "      <td>2017-11-01</td>\n",
       "      <td>True</td>\n",
       "      <td>6528 THUNDERBIRD DR</td>\n",
       "      <td>RED RIVER</td>\n",
       "    </tr>\n",
       "    <tr>\n",
       "      <th>4</th>\n",
       "      <td>25312</td>\n",
       "      <td>2017-11-01</td>\n",
       "      <td>True</td>\n",
       "      <td>604 CROLEY DR</td>\n",
       "      <td>RED RIVER</td>\n",
       "    </tr>\n",
       "    <tr>\n",
       "      <th>8</th>\n",
       "      <td>25330</td>\n",
       "      <td>2017-11-01</td>\n",
       "      <td>True</td>\n",
       "      <td>4484 LAVERGNE COUCHVILLE PIKE</td>\n",
       "      <td>RED RIVER</td>\n",
       "    </tr>\n",
       "    <tr>\n",
       "      <th>10</th>\n",
       "      <td>25341</td>\n",
       "      <td>2017-11-01</td>\n",
       "      <td>True</td>\n",
       "      <td>3113 HYDES FERRY RD</td>\n",
       "      <td>RED RIVER</td>\n",
       "    </tr>\n",
       "  </tbody>\n",
       "</table>\n",
       "</div>"
      ],
      "text/plain": [
       "    Request Number Date Opened  Missed                  Clean Address  \\\n",
       "1            25274  2017-11-01    True          4028 CLARKSVILLE PIKE   \n",
       "2            25276  2017-11-01    True            6528 THUNDERBIRD DR   \n",
       "4            25312  2017-11-01    True                  604 CROLEY DR   \n",
       "8            25330  2017-11-01    True  4484 LAVERGNE COUCHVILLE PIKE   \n",
       "10           25341  2017-11-01    True            3113 HYDES FERRY RD   \n",
       "\n",
       "   Trash Hauler  \n",
       "1     RED RIVER  \n",
       "2     RED RIVER  \n",
       "4     RED RIVER  \n",
       "8     RED RIVER  \n",
       "10    RED RIVER  "
      ]
     },
     "execution_count": 11,
     "metadata": {},
     "output_type": "execute_result"
    }
   ],
   "source": [
    "redriver.head()"
   ]
  },
  {
   "cell_type": "code",
   "execution_count": 12,
   "id": "022f3f91-1853-4288-a591-4a4f306ded2d",
   "metadata": {},
   "outputs": [],
   "source": [
    "redriver = redriver.drop_duplicates(['Date Opened', 'Clean Address'])"
   ]
  },
  {
   "cell_type": "code",
   "execution_count": 13,
   "id": "a78732f2-4753-4a59-85f9-7f56c8897115",
   "metadata": {},
   "outputs": [
    {
     "data": {
      "text/html": [
       "<div>\n",
       "<style scoped>\n",
       "    .dataframe tbody tr th:only-of-type {\n",
       "        vertical-align: middle;\n",
       "    }\n",
       "\n",
       "    .dataframe tbody tr th {\n",
       "        vertical-align: top;\n",
       "    }\n",
       "\n",
       "    .dataframe thead th {\n",
       "        text-align: right;\n",
       "    }\n",
       "</style>\n",
       "<table border=\"1\" class=\"dataframe\">\n",
       "  <thead>\n",
       "    <tr style=\"text-align: right;\">\n",
       "      <th></th>\n",
       "      <th>Request Number</th>\n",
       "      <th>Date Opened</th>\n",
       "      <th>Missed</th>\n",
       "      <th>Clean Address</th>\n",
       "      <th>Trash Hauler</th>\n",
       "    </tr>\n",
       "  </thead>\n",
       "  <tbody>\n",
       "    <tr>\n",
       "      <th>0</th>\n",
       "      <td>25474</td>\n",
       "      <td>2017-11-01</td>\n",
       "      <td>True</td>\n",
       "      <td>1144 SEWANEE RD</td>\n",
       "      <td>RED RIVER</td>\n",
       "    </tr>\n",
       "    <tr>\n",
       "      <th>1</th>\n",
       "      <td>25469</td>\n",
       "      <td>2017-11-01</td>\n",
       "      <td>True</td>\n",
       "      <td>117 LAFAYETTE CT</td>\n",
       "      <td>RED RIVER</td>\n",
       "    </tr>\n",
       "    <tr>\n",
       "      <th>2</th>\n",
       "      <td>25529</td>\n",
       "      <td>2017-11-01</td>\n",
       "      <td>True</td>\n",
       "      <td>131 PAGE RD</td>\n",
       "      <td>RED RIVER</td>\n",
       "    </tr>\n",
       "    <tr>\n",
       "      <th>3</th>\n",
       "      <td>25525</td>\n",
       "      <td>2017-11-01</td>\n",
       "      <td>True</td>\n",
       "      <td>162 ANTIOCH PIKE</td>\n",
       "      <td>RED RIVER</td>\n",
       "    </tr>\n",
       "    <tr>\n",
       "      <th>4</th>\n",
       "      <td>25496</td>\n",
       "      <td>2017-11-01</td>\n",
       "      <td>True</td>\n",
       "      <td>1815 WOODMONT BLVD</td>\n",
       "      <td>RED RIVER</td>\n",
       "    </tr>\n",
       "    <tr>\n",
       "      <th>...</th>\n",
       "      <td>...</td>\n",
       "      <td>...</td>\n",
       "      <td>...</td>\n",
       "      <td>...</td>\n",
       "      <td>...</td>\n",
       "    </tr>\n",
       "    <tr>\n",
       "      <th>12666</th>\n",
       "      <td>266662</td>\n",
       "      <td>2019-11-01</td>\n",
       "      <td>True</td>\n",
       "      <td>655 HERITAGE DR</td>\n",
       "      <td>RED RIVER</td>\n",
       "    </tr>\n",
       "    <tr>\n",
       "      <th>12667</th>\n",
       "      <td>266915</td>\n",
       "      <td>2019-11-01</td>\n",
       "      <td>True</td>\n",
       "      <td>675 HERITAGE DR</td>\n",
       "      <td>RED RIVER</td>\n",
       "    </tr>\n",
       "    <tr>\n",
       "      <th>12668</th>\n",
       "      <td>266945</td>\n",
       "      <td>2019-11-01</td>\n",
       "      <td>True</td>\n",
       "      <td>801 E CAMPBELL RD</td>\n",
       "      <td>RED RIVER</td>\n",
       "    </tr>\n",
       "    <tr>\n",
       "      <th>12669</th>\n",
       "      <td>266862</td>\n",
       "      <td>2019-11-01</td>\n",
       "      <td>True</td>\n",
       "      <td>816 E CAMPBELL RD</td>\n",
       "      <td>RED RIVER</td>\n",
       "    </tr>\n",
       "    <tr>\n",
       "      <th>12670</th>\n",
       "      <td>266782</td>\n",
       "      <td>2019-11-01</td>\n",
       "      <td>True</td>\n",
       "      <td>846 E MEADE AVE</td>\n",
       "      <td>RED RIVER</td>\n",
       "    </tr>\n",
       "  </tbody>\n",
       "</table>\n",
       "<p>12671 rows × 5 columns</p>\n",
       "</div>"
      ],
      "text/plain": [
       "       Request Number Date Opened  Missed       Clean Address Trash Hauler\n",
       "0               25474  2017-11-01    True     1144 SEWANEE RD    RED RIVER\n",
       "1               25469  2017-11-01    True    117 LAFAYETTE CT    RED RIVER\n",
       "2               25529  2017-11-01    True         131 PAGE RD    RED RIVER\n",
       "3               25525  2017-11-01    True    162 ANTIOCH PIKE    RED RIVER\n",
       "4               25496  2017-11-01    True  1815 WOODMONT BLVD    RED RIVER\n",
       "...               ...         ...     ...                 ...          ...\n",
       "12666          266662  2019-11-01    True     655 HERITAGE DR    RED RIVER\n",
       "12667          266915  2019-11-01    True     675 HERITAGE DR    RED RIVER\n",
       "12668          266945  2019-11-01    True   801 E CAMPBELL RD    RED RIVER\n",
       "12669          266862  2019-11-01    True   816 E CAMPBELL RD    RED RIVER\n",
       "12670          266782  2019-11-01    True     846 E MEADE AVE    RED RIVER\n",
       "\n",
       "[12671 rows x 5 columns]"
      ]
     },
     "execution_count": 13,
     "metadata": {},
     "output_type": "execute_result"
    }
   ],
   "source": [
    "redriver.sort_values(['Date Opened', 'Clean Address']).reset_index(drop = True)"
   ]
  },
  {
   "cell_type": "code",
   "execution_count": 29,
   "id": "3d6529db-7749-41a4-86eb-11b54f425094",
   "metadata": {},
   "outputs": [],
   "source": [
    "redriverrolled = redriver.groupby('Clean Address').rolling(window = '180d', on = 'Date Opened').count()"
   ]
  },
  {
   "cell_type": "code",
   "execution_count": 32,
   "id": "94d16cef-73e8-4e40-b4c7-15a0cc890c3a",
   "metadata": {},
   "outputs": [
    {
     "ename": "AttributeError",
     "evalue": "'DataFrame' object has no attribute 'sort'",
     "output_type": "error",
     "traceback": [
      "\u001b[1;31m---------------------------------------------------------------------------\u001b[0m",
      "\u001b[1;31mAttributeError\u001b[0m                            Traceback (most recent call last)",
      "\u001b[1;32m~\\AppData\\Local\\Temp\\ipykernel_17764\\3278593292.py\u001b[0m in \u001b[0;36m?\u001b[1;34m()\u001b[0m\n\u001b[0;32m      1\u001b[0m \u001b[0mredriverrolled\u001b[0m\u001b[1;33m.\u001b[0m\u001b[0msort_values\u001b[0m\u001b[1;33m(\u001b[0m\u001b[1;34m'Request Number'\u001b[0m\u001b[1;33m,\u001b[0m \u001b[0mascending\u001b[0m \u001b[1;33m=\u001b[0m \u001b[1;32mFalse\u001b[0m\u001b[1;33m)\u001b[0m\u001b[1;33m\u001b[0m\u001b[1;33m\u001b[0m\u001b[0m\n\u001b[1;32m----> 2\u001b[1;33m \u001b[0mredriverrolled\u001b[0m\u001b[1;33m.\u001b[0m\u001b[0msort\u001b[0m\u001b[1;33m(\u001b[0m\u001b[1;34m'Missed'\u001b[0m\u001b[1;33m)\u001b[0m\u001b[1;33m\u001b[0m\u001b[1;33m\u001b[0m\u001b[0m\n\u001b[0m",
      "\u001b[1;32m~\\anaconda3\\envs\\geospatial\\lib\\site-packages\\pandas\\core\\generic.py\u001b[0m in \u001b[0;36m?\u001b[1;34m(self, name)\u001b[0m\n\u001b[0;32m   6292\u001b[0m             \u001b[1;32mand\u001b[0m \u001b[0mname\u001b[0m \u001b[1;32mnot\u001b[0m \u001b[1;32min\u001b[0m \u001b[0mself\u001b[0m\u001b[1;33m.\u001b[0m\u001b[0m_accessors\u001b[0m\u001b[1;33m\u001b[0m\u001b[1;33m\u001b[0m\u001b[0m\n\u001b[0;32m   6293\u001b[0m             \u001b[1;32mand\u001b[0m \u001b[0mself\u001b[0m\u001b[1;33m.\u001b[0m\u001b[0m_info_axis\u001b[0m\u001b[1;33m.\u001b[0m\u001b[0m_can_hold_identifiers_and_holds_name\u001b[0m\u001b[1;33m(\u001b[0m\u001b[0mname\u001b[0m\u001b[1;33m)\u001b[0m\u001b[1;33m\u001b[0m\u001b[1;33m\u001b[0m\u001b[0m\n\u001b[0;32m   6294\u001b[0m         ):\n\u001b[0;32m   6295\u001b[0m             \u001b[1;32mreturn\u001b[0m \u001b[0mself\u001b[0m\u001b[1;33m[\u001b[0m\u001b[0mname\u001b[0m\u001b[1;33m]\u001b[0m\u001b[1;33m\u001b[0m\u001b[1;33m\u001b[0m\u001b[0m\n\u001b[1;32m-> 6296\u001b[1;33m         \u001b[1;32mreturn\u001b[0m \u001b[0mobject\u001b[0m\u001b[1;33m.\u001b[0m\u001b[0m__getattribute__\u001b[0m\u001b[1;33m(\u001b[0m\u001b[0mself\u001b[0m\u001b[1;33m,\u001b[0m \u001b[0mname\u001b[0m\u001b[1;33m)\u001b[0m\u001b[1;33m\u001b[0m\u001b[1;33m\u001b[0m\u001b[0m\n\u001b[0m",
      "\u001b[1;31mAttributeError\u001b[0m: 'DataFrame' object has no attribute 'sort'"
     ]
    }
   ],
   "source": [
    "redriverrolled.sort_values()\n",
    "redriverrolled"
   ]
  },
  {
   "cell_type": "code",
   "execution_count": null,
   "id": "243531a5-93cd-434a-89ef-36e2141e967f",
   "metadata": {},
   "outputs": [],
   "source": []
  }
 ],
 "metadata": {
  "kernelspec": {
   "display_name": "Python 3 (ipykernel)",
   "language": "python",
   "name": "python3"
  },
  "language_info": {
   "codemirror_mode": {
    "name": "ipython",
    "version": 3
   },
   "file_extension": ".py",
   "mimetype": "text/x-python",
   "name": "python",
   "nbconvert_exporter": "python",
   "pygments_lexer": "ipython3",
   "version": "3.10.13"
  }
 },
 "nbformat": 4,
 "nbformat_minor": 5
}
